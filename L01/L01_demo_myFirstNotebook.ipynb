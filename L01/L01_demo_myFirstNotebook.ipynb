{
 "cells": [
  {
   "cell_type": "markdown",
   "id": "2e05ed0b-8de3-4973-929f-f8354e68535f",
   "metadata": {},
   "source": [
    " "
   ]
  },
  {
   "cell_type": "markdown",
   "id": "01907e39-a75c-4445-ae4d-6a35bbeffa9d",
   "metadata": {},
   "source": [
    "# Our notebook\n",
    "## This is a markdown cell\n",
    "### The headlines become smaller with each hash\n",
    "\n",
    "Here is some text, I am making some points below:\n",
    "1. this is the first point\n",
    "2. this is the second\n",
    "3. more\n",
    "4. even more\n",
    "- or this bullet points\n",
    "- and another"
   ]
  },
  {
   "cell_type": "code",
   "execution_count": 2,
   "id": "ab81c473-8468-4892-82d3-a32fdc08b84f",
   "metadata": {},
   "outputs": [],
   "source": [
    "# This is a code cell\n",
    "a = 1\n",
    "b = 2"
   ]
  },
  {
   "cell_type": "code",
   "execution_count": 3,
   "id": "00dfc8a3-9682-425e-aba3-50484790a1a8",
   "metadata": {},
   "outputs": [],
   "source": [
    "c = a+b"
   ]
  },
  {
   "cell_type": "code",
   "execution_count": 4,
   "id": "401438c8-4219-471b-a396-a9352448c824",
   "metadata": {},
   "outputs": [
    {
     "name": "stdout",
     "output_type": "stream",
     "text": [
      "3\n"
     ]
    }
   ],
   "source": [
    "print(c)"
   ]
  },
  {
   "cell_type": "code",
   "execution_count": null,
   "id": "b3f197b4-9795-4099-8e77-49a66fb27b70",
   "metadata": {},
   "outputs": [],
   "source": [
    "print(c)"
   ]
  },
  {
   "cell_type": "code",
   "execution_count": null,
   "id": "2b1a499b-1f27-40a4-a535-866982db9d95",
   "metadata": {},
   "outputs": [],
   "source": []
  },
  {
   "cell_type": "code",
   "execution_count": null,
   "id": "155a99cd-b2cd-417f-a426-f4322c1ea364",
   "metadata": {},
   "outputs": [],
   "source": []
  }
 ],
 "metadata": {
  "kernelspec": {
   "display_name": "Python 3",
   "language": "python",
   "name": "python3"
  },
  "language_info": {
   "codemirror_mode": {
    "name": "ipython",
    "version": 3
   },
   "file_extension": ".py",
   "mimetype": "text/x-python",
   "name": "python",
   "nbconvert_exporter": "python",
   "pygments_lexer": "ipython3",
   "version": "3.8.8"
  }
 },
 "nbformat": 4,
 "nbformat_minor": 5
}
